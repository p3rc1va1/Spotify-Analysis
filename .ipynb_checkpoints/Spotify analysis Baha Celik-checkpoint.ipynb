{
 "cells": [
  {
   "cell_type": "markdown",
   "id": "1f8a876a-883f-4f40-ae04-7cf3cf56e7de",
   "metadata": {},
   "source": [
    "<h1 style=\"font-family: 'Times New Roman'; color: #ff0000; text-align: left;\">Spotify Top Tracks Analysis</h1>\n"
   ]
  },
  {
   "cell_type": "code",
   "execution_count": 1,
   "id": "04d0db11-ffe2-4a88-b130-8fca173024a1",
   "metadata": {},
   "outputs": [],
   "source": [
    "import numpy as np\n",
    "import pandas as pd"
   ]
  },
  {
   "cell_type": "code",
   "execution_count": 2,
   "id": "f8addef7-638c-43f3-9754-926826896eec",
   "metadata": {},
   "outputs": [
    {
     "data": {
      "text/html": [
       "<div>\n",
       "<style scoped>\n",
       "    .dataframe tbody tr th:only-of-type {\n",
       "        vertical-align: middle;\n",
       "    }\n",
       "\n",
       "    .dataframe tbody tr th {\n",
       "        vertical-align: top;\n",
       "    }\n",
       "\n",
       "    .dataframe thead th {\n",
       "        text-align: right;\n",
       "    }\n",
       "</style>\n",
       "<table border=\"1\" class=\"dataframe\">\n",
       "  <thead>\n",
       "    <tr style=\"text-align: right;\">\n",
       "      <th></th>\n",
       "      <th>artist</th>\n",
       "      <th>album</th>\n",
       "      <th>track_name</th>\n",
       "      <th>track_id</th>\n",
       "      <th>energy</th>\n",
       "      <th>danceability</th>\n",
       "      <th>key</th>\n",
       "      <th>loudness</th>\n",
       "      <th>acousticness</th>\n",
       "      <th>speechiness</th>\n",
       "      <th>instrumentalness</th>\n",
       "      <th>liveness</th>\n",
       "      <th>valence</th>\n",
       "      <th>tempo</th>\n",
       "      <th>duration_ms</th>\n",
       "      <th>genre</th>\n",
       "    </tr>\n",
       "  </thead>\n",
       "  <tbody>\n",
       "    <tr>\n",
       "      <th>0</th>\n",
       "      <td>The Weeknd</td>\n",
       "      <td>After Hours</td>\n",
       "      <td>Blinding Lights</td>\n",
       "      <td>0VjIjW4GlUZAMYd2vXMi3b</td>\n",
       "      <td>0.730</td>\n",
       "      <td>0.514</td>\n",
       "      <td>1</td>\n",
       "      <td>-5.934</td>\n",
       "      <td>0.00146</td>\n",
       "      <td>0.0598</td>\n",
       "      <td>0.000095</td>\n",
       "      <td>0.0897</td>\n",
       "      <td>0.334</td>\n",
       "      <td>171.005</td>\n",
       "      <td>200040</td>\n",
       "      <td>R&amp;B/Soul</td>\n",
       "    </tr>\n",
       "    <tr>\n",
       "      <th>1</th>\n",
       "      <td>Tones And I</td>\n",
       "      <td>Dance Monkey</td>\n",
       "      <td>Dance Monkey</td>\n",
       "      <td>1rgnBhdG2JDFTbYkYRZAku</td>\n",
       "      <td>0.593</td>\n",
       "      <td>0.825</td>\n",
       "      <td>6</td>\n",
       "      <td>-6.401</td>\n",
       "      <td>0.68800</td>\n",
       "      <td>0.0988</td>\n",
       "      <td>0.000161</td>\n",
       "      <td>0.1700</td>\n",
       "      <td>0.540</td>\n",
       "      <td>98.078</td>\n",
       "      <td>209755</td>\n",
       "      <td>Alternative/Indie</td>\n",
       "    </tr>\n",
       "    <tr>\n",
       "      <th>2</th>\n",
       "      <td>Roddy Ricch</td>\n",
       "      <td>Please Excuse Me For Being Antisocial</td>\n",
       "      <td>The Box</td>\n",
       "      <td>0nbXyq5TXYPCO7pr3N8S4I</td>\n",
       "      <td>0.586</td>\n",
       "      <td>0.896</td>\n",
       "      <td>10</td>\n",
       "      <td>-6.687</td>\n",
       "      <td>0.10400</td>\n",
       "      <td>0.0559</td>\n",
       "      <td>0.000000</td>\n",
       "      <td>0.7900</td>\n",
       "      <td>0.642</td>\n",
       "      <td>116.971</td>\n",
       "      <td>196653</td>\n",
       "      <td>Hip-Hop/Rap</td>\n",
       "    </tr>\n",
       "    <tr>\n",
       "      <th>3</th>\n",
       "      <td>SAINt JHN</td>\n",
       "      <td>Roses (Imanbek Remix)</td>\n",
       "      <td>Roses - Imanbek Remix</td>\n",
       "      <td>2Wo6QQD1KMDWeFkkjLqwx5</td>\n",
       "      <td>0.721</td>\n",
       "      <td>0.785</td>\n",
       "      <td>8</td>\n",
       "      <td>-5.457</td>\n",
       "      <td>0.01490</td>\n",
       "      <td>0.0506</td>\n",
       "      <td>0.004320</td>\n",
       "      <td>0.2850</td>\n",
       "      <td>0.894</td>\n",
       "      <td>121.962</td>\n",
       "      <td>176219</td>\n",
       "      <td>Dance/Electronic</td>\n",
       "    </tr>\n",
       "    <tr>\n",
       "      <th>4</th>\n",
       "      <td>Dua Lipa</td>\n",
       "      <td>Future Nostalgia</td>\n",
       "      <td>Don't Start Now</td>\n",
       "      <td>3PfIrDoz19wz7qK7tYeu62</td>\n",
       "      <td>0.793</td>\n",
       "      <td>0.793</td>\n",
       "      <td>11</td>\n",
       "      <td>-4.521</td>\n",
       "      <td>0.01230</td>\n",
       "      <td>0.0830</td>\n",
       "      <td>0.000000</td>\n",
       "      <td>0.0951</td>\n",
       "      <td>0.679</td>\n",
       "      <td>123.950</td>\n",
       "      <td>183290</td>\n",
       "      <td>Nu-disco</td>\n",
       "    </tr>\n",
       "  </tbody>\n",
       "</table>\n",
       "</div>"
      ],
      "text/plain": [
       "        artist                                  album             track_name  \\\n",
       "0   The Weeknd                            After Hours        Blinding Lights   \n",
       "1  Tones And I                           Dance Monkey           Dance Monkey   \n",
       "2  Roddy Ricch  Please Excuse Me For Being Antisocial                The Box   \n",
       "3    SAINt JHN                  Roses (Imanbek Remix)  Roses - Imanbek Remix   \n",
       "4     Dua Lipa                       Future Nostalgia        Don't Start Now   \n",
       "\n",
       "                 track_id  energy  danceability  key  loudness  acousticness  \\\n",
       "0  0VjIjW4GlUZAMYd2vXMi3b   0.730         0.514    1    -5.934       0.00146   \n",
       "1  1rgnBhdG2JDFTbYkYRZAku   0.593         0.825    6    -6.401       0.68800   \n",
       "2  0nbXyq5TXYPCO7pr3N8S4I   0.586         0.896   10    -6.687       0.10400   \n",
       "3  2Wo6QQD1KMDWeFkkjLqwx5   0.721         0.785    8    -5.457       0.01490   \n",
       "4  3PfIrDoz19wz7qK7tYeu62   0.793         0.793   11    -4.521       0.01230   \n",
       "\n",
       "   speechiness  instrumentalness  liveness  valence    tempo  duration_ms  \\\n",
       "0       0.0598          0.000095    0.0897    0.334  171.005       200040   \n",
       "1       0.0988          0.000161    0.1700    0.540   98.078       209755   \n",
       "2       0.0559          0.000000    0.7900    0.642  116.971       196653   \n",
       "3       0.0506          0.004320    0.2850    0.894  121.962       176219   \n",
       "4       0.0830          0.000000    0.0951    0.679  123.950       183290   \n",
       "\n",
       "               genre  \n",
       "0           R&B/Soul  \n",
       "1  Alternative/Indie  \n",
       "2        Hip-Hop/Rap  \n",
       "3   Dance/Electronic  \n",
       "4           Nu-disco  "
      ]
     },
     "execution_count": 2,
     "metadata": {},
     "output_type": "execute_result"
    }
   ],
   "source": [
    "#load the data using pandas\n",
    "data = pd.read_csv('data/spotifytoptracks.csv', index_col=0)#index_col=0 to get rid of Unnamed:0\n",
    "data.head()"
   ]
  },
  {
   "cell_type": "code",
   "execution_count": 3,
   "id": "7088f175-fee9-4da3-a798-f58951e5c71f",
   "metadata": {},
   "outputs": [],
   "source": [
    "data.index = data.index + 1"
   ]
  },
  {
   "cell_type": "code",
   "execution_count": 4,
   "id": "d1a9250b-d017-4128-ba89-0f61ad9df894",
   "metadata": {},
   "outputs": [
    {
     "data": {
      "text/html": [
       "<div>\n",
       "<style scoped>\n",
       "    .dataframe tbody tr th:only-of-type {\n",
       "        vertical-align: middle;\n",
       "    }\n",
       "\n",
       "    .dataframe tbody tr th {\n",
       "        vertical-align: top;\n",
       "    }\n",
       "\n",
       "    .dataframe thead th {\n",
       "        text-align: right;\n",
       "    }\n",
       "</style>\n",
       "<table border=\"1\" class=\"dataframe\">\n",
       "  <thead>\n",
       "    <tr style=\"text-align: right;\">\n",
       "      <th></th>\n",
       "      <th>artist</th>\n",
       "      <th>album</th>\n",
       "      <th>track_name</th>\n",
       "      <th>track_id</th>\n",
       "      <th>energy</th>\n",
       "      <th>danceability</th>\n",
       "      <th>key</th>\n",
       "      <th>loudness</th>\n",
       "      <th>acousticness</th>\n",
       "      <th>speechiness</th>\n",
       "      <th>instrumentalness</th>\n",
       "      <th>liveness</th>\n",
       "      <th>valence</th>\n",
       "      <th>tempo</th>\n",
       "      <th>duration_ms</th>\n",
       "      <th>genre</th>\n",
       "    </tr>\n",
       "  </thead>\n",
       "  <tbody>\n",
       "    <tr>\n",
       "      <th>1</th>\n",
       "      <td>The Weeknd</td>\n",
       "      <td>After Hours</td>\n",
       "      <td>Blinding Lights</td>\n",
       "      <td>0VjIjW4GlUZAMYd2vXMi3b</td>\n",
       "      <td>0.730</td>\n",
       "      <td>0.514</td>\n",
       "      <td>1</td>\n",
       "      <td>-5.934</td>\n",
       "      <td>0.00146</td>\n",
       "      <td>0.0598</td>\n",
       "      <td>0.000095</td>\n",
       "      <td>0.0897</td>\n",
       "      <td>0.334</td>\n",
       "      <td>171.005</td>\n",
       "      <td>200040</td>\n",
       "      <td>R&amp;B/Soul</td>\n",
       "    </tr>\n",
       "    <tr>\n",
       "      <th>2</th>\n",
       "      <td>Tones And I</td>\n",
       "      <td>Dance Monkey</td>\n",
       "      <td>Dance Monkey</td>\n",
       "      <td>1rgnBhdG2JDFTbYkYRZAku</td>\n",
       "      <td>0.593</td>\n",
       "      <td>0.825</td>\n",
       "      <td>6</td>\n",
       "      <td>-6.401</td>\n",
       "      <td>0.68800</td>\n",
       "      <td>0.0988</td>\n",
       "      <td>0.000161</td>\n",
       "      <td>0.1700</td>\n",
       "      <td>0.540</td>\n",
       "      <td>98.078</td>\n",
       "      <td>209755</td>\n",
       "      <td>Alternative/Indie</td>\n",
       "    </tr>\n",
       "    <tr>\n",
       "      <th>3</th>\n",
       "      <td>Roddy Ricch</td>\n",
       "      <td>Please Excuse Me For Being Antisocial</td>\n",
       "      <td>The Box</td>\n",
       "      <td>0nbXyq5TXYPCO7pr3N8S4I</td>\n",
       "      <td>0.586</td>\n",
       "      <td>0.896</td>\n",
       "      <td>10</td>\n",
       "      <td>-6.687</td>\n",
       "      <td>0.10400</td>\n",
       "      <td>0.0559</td>\n",
       "      <td>0.000000</td>\n",
       "      <td>0.7900</td>\n",
       "      <td>0.642</td>\n",
       "      <td>116.971</td>\n",
       "      <td>196653</td>\n",
       "      <td>Hip-Hop/Rap</td>\n",
       "    </tr>\n",
       "    <tr>\n",
       "      <th>4</th>\n",
       "      <td>SAINt JHN</td>\n",
       "      <td>Roses (Imanbek Remix)</td>\n",
       "      <td>Roses - Imanbek Remix</td>\n",
       "      <td>2Wo6QQD1KMDWeFkkjLqwx5</td>\n",
       "      <td>0.721</td>\n",
       "      <td>0.785</td>\n",
       "      <td>8</td>\n",
       "      <td>-5.457</td>\n",
       "      <td>0.01490</td>\n",
       "      <td>0.0506</td>\n",
       "      <td>0.004320</td>\n",
       "      <td>0.2850</td>\n",
       "      <td>0.894</td>\n",
       "      <td>121.962</td>\n",
       "      <td>176219</td>\n",
       "      <td>Dance/Electronic</td>\n",
       "    </tr>\n",
       "    <tr>\n",
       "      <th>5</th>\n",
       "      <td>Dua Lipa</td>\n",
       "      <td>Future Nostalgia</td>\n",
       "      <td>Don't Start Now</td>\n",
       "      <td>3PfIrDoz19wz7qK7tYeu62</td>\n",
       "      <td>0.793</td>\n",
       "      <td>0.793</td>\n",
       "      <td>11</td>\n",
       "      <td>-4.521</td>\n",
       "      <td>0.01230</td>\n",
       "      <td>0.0830</td>\n",
       "      <td>0.000000</td>\n",
       "      <td>0.0951</td>\n",
       "      <td>0.679</td>\n",
       "      <td>123.950</td>\n",
       "      <td>183290</td>\n",
       "      <td>Nu-disco</td>\n",
       "    </tr>\n",
       "  </tbody>\n",
       "</table>\n",
       "</div>"
      ],
      "text/plain": [
       "        artist                                  album             track_name  \\\n",
       "1   The Weeknd                            After Hours        Blinding Lights   \n",
       "2  Tones And I                           Dance Monkey           Dance Monkey   \n",
       "3  Roddy Ricch  Please Excuse Me For Being Antisocial                The Box   \n",
       "4    SAINt JHN                  Roses (Imanbek Remix)  Roses - Imanbek Remix   \n",
       "5     Dua Lipa                       Future Nostalgia        Don't Start Now   \n",
       "\n",
       "                 track_id  energy  danceability  key  loudness  acousticness  \\\n",
       "1  0VjIjW4GlUZAMYd2vXMi3b   0.730         0.514    1    -5.934       0.00146   \n",
       "2  1rgnBhdG2JDFTbYkYRZAku   0.593         0.825    6    -6.401       0.68800   \n",
       "3  0nbXyq5TXYPCO7pr3N8S4I   0.586         0.896   10    -6.687       0.10400   \n",
       "4  2Wo6QQD1KMDWeFkkjLqwx5   0.721         0.785    8    -5.457       0.01490   \n",
       "5  3PfIrDoz19wz7qK7tYeu62   0.793         0.793   11    -4.521       0.01230   \n",
       "\n",
       "   speechiness  instrumentalness  liveness  valence    tempo  duration_ms  \\\n",
       "1       0.0598          0.000095    0.0897    0.334  171.005       200040   \n",
       "2       0.0988          0.000161    0.1700    0.540   98.078       209755   \n",
       "3       0.0559          0.000000    0.7900    0.642  116.971       196653   \n",
       "4       0.0506          0.004320    0.2850    0.894  121.962       176219   \n",
       "5       0.0830          0.000000    0.0951    0.679  123.950       183290   \n",
       "\n",
       "               genre  \n",
       "1           R&B/Soul  \n",
       "2  Alternative/Indie  \n",
       "3        Hip-Hop/Rap  \n",
       "4   Dance/Electronic  \n",
       "5           Nu-disco  "
      ]
     },
     "execution_count": 4,
     "metadata": {},
     "output_type": "execute_result"
    }
   ],
   "source": [
    "#with the easy to read indexing\n",
    "data.head()"
   ]
  },
  {
   "cell_type": "markdown",
   "id": "0f01364b-98f8-47e1-8e43-4d4632f4e859",
   "metadata": {},
   "source": [
    "I wanted to start indexing from 1 instead of 0 because it is way easier for me to work with and also I have gotten rid of the 'Unnamed:0' column which was quite annoying at first"
   ]
  },
  {
   "cell_type": "code",
   "execution_count": 5,
   "id": "4d8e676f-fb4b-471b-bd60-40c10d4d0d5c",
   "metadata": {},
   "outputs": [
    {
     "name": "stdout",
     "output_type": "stream",
     "text": [
      "This dataset has 16 features\n"
     ]
    }
   ],
   "source": [
    "#How many features this dataset has?\n",
    "print(f'This dataset has {data.shape[1]} features')"
   ]
  },
  {
   "cell_type": "code",
   "execution_count": 6,
   "id": "8bc0ca75",
   "metadata": {},
   "outputs": [
    {
     "name": "stdout",
     "output_type": "stream",
     "text": [
      "This dataset has 50 observations\n"
     ]
    }
   ],
   "source": [
    "#How many observations are there in this dataset?\n",
    "print(f'This dataset has {data.shape[0]} observations')"
   ]
  },
  {
   "cell_type": "markdown",
   "id": "afae1057-f0bf-420e-9160-d3c2b65e6b72",
   "metadata": {},
   "source": [
    "In total it gives us a 16x50 table which would make a database of 800 values."
   ]
  },
  {
   "cell_type": "code",
   "execution_count": 37,
   "id": "81106e57-ac3d-420f-8f19-e91f7552febf",
   "metadata": {},
   "outputs": [],
   "source": [
    "#Identify the categorical rows and set the data type as 'category'\n",
    "categorical_columns = ['energy', 'danceability', 'loudness', 'acousticness','speechiness','instrumentalness', 'liveness', 'valence', 'duration_ms']\n",
    "for i in categorical_columns:\n",
    "    data[i] = data[i].astype('category')"
   ]
  },
  {
   "cell_type": "markdown",
   "id": "bcc1189f-abe1-463d-9b10-ca5b45ff6910",
   "metadata": {},
   "source": [
    "I had first done it one by one but realized it was extremely repetitive so converted it into a for loop to make it easier to read and obey PEP8."
   ]
  },
  {
   "cell_type": "code",
   "execution_count": 38,
   "id": "fbf6faad-7702-4907-a358-e48b1b16e7bf",
   "metadata": {},
   "outputs": [
    {
     "name": "stdout",
     "output_type": "stream",
     "text": [
      "The column 'artist' is not categorical\n",
      "The column 'album' is not categorical\n",
      "The column 'track_name' is not categorical\n",
      "The column 'track_id' is not categorical\n",
      "The column 'energy' is categorical\n",
      "The column 'danceability' is categorical\n",
      "The column 'key' is not categorical\n",
      "The column 'loudness' is categorical\n",
      "The column 'acousticness' is categorical\n",
      "The column 'speechiness' is categorical\n",
      "The column 'instrumentalness' is categorical\n",
      "The column 'liveness' is categorical\n",
      "The column 'valence' is categorical\n",
      "The column 'tempo' is not categorical\n",
      "The column 'duration_ms' is categorical\n",
      "The column 'genre' is not categorical\n"
     ]
    }
   ],
   "source": [
    "#Which of the features are categorical?\n",
    "for column in data.columns:\n",
    "    if data[column].dtype.name == 'category':\n",
    "        print(f\"The column '{column}' is categorical\")\n",
    "    else:\n",
    "        print(f\"The column '{column}' is not categorical\")"
   ]
  },
  {
   "cell_type": "markdown",
   "id": "830af2f8-40be-47ba-8876-8e68f389ff29",
   "metadata": {},
   "source": [
    "There is a thin difference between numerical and categorical data for this dataset but as long as you are familiar with the context of the data you can easily tell them apart."
   ]
  },
  {
   "cell_type": "code",
   "execution_count": 9,
   "id": "1eb18428-2e35-40aa-8122-e2a472c6fc59",
   "metadata": {},
   "outputs": [
    {
     "name": "stdout",
     "output_type": "stream",
     "text": [
      "Numeric features:\n",
      "energy\n",
      "danceability\n",
      "key\n",
      "loudness\n",
      "acousticness\n",
      "speechiness\n",
      "instrumentalness\n",
      "liveness\n",
      "valence\n",
      "tempo\n",
      "duration_ms\n"
     ]
    }
   ],
   "source": [
    "#Which of the features are numeric?\n",
    "numeric_columns = []\n",
    "for column in data.columns:\n",
    "    if (pd.api.types.is_numeric_dtype(data[column].values)) or (data[column].dtype.name) == 'category':\n",
    "        numeric_columns.append(column)\n",
    "print(\"Numeric features:\")\n",
    "for column in numeric_columns:\n",
    "    print(column)\n",
    "    "
   ]
  },
  {
   "cell_type": "code",
   "execution_count": 10,
   "id": "52a42932-0193-4ee6-8b0e-dfbfd99685ec",
   "metadata": {},
   "outputs": [
    {
     "name": "stdout",
     "output_type": "stream",
     "text": [
      "Billie Eilish    3\n",
      "Dua Lipa         3\n",
      "Travis Scott     3\n",
      "Justin Bieber    2\n",
      "Harry Styles     2\n",
      "Lewis Capaldi    2\n",
      "Post Malone      2\n",
      "Name: artist, dtype: int64\n"
     ]
    }
   ],
   "source": [
    "#Are there any artists that have more than 1 popular track? If yes, which and how many?\n",
    "value_counting = data['artist'].value_counts()\n",
    "print(value_counting[value_counting > 1])"
   ]
  },
  {
   "cell_type": "markdown",
   "id": "e36a21e6-9798-46d5-9d14-c90eb600fc17",
   "metadata": {},
   "source": [
    "It is also worth to mention that 4/7 artists that have more than 1 popular track are in pop genre."
   ]
  },
  {
   "cell_type": "code",
   "execution_count": 11,
   "id": "69970143-7d15-4ad9-b42a-003388a0871d",
   "metadata": {},
   "outputs": [
    {
     "name": "stdout",
     "output_type": "stream",
     "text": [
      "Most popular artist was The Weeknd\n"
     ]
    }
   ],
   "source": [
    "#Who was the most popular artist?\n",
    "print(f'Most popular artist was {data.loc[1].artist}')"
   ]
  },
  {
   "cell_type": "code",
   "execution_count": 68,
   "id": "675f7aa7-a62b-4249-9f8b-1be6b0c5ce0a",
   "metadata": {},
   "outputs": [
    {
     "data": {
      "text/html": [
       "<div>\n",
       "<style scoped>\n",
       "    .dataframe tbody tr th:only-of-type {\n",
       "        vertical-align: middle;\n",
       "    }\n",
       "\n",
       "    .dataframe tbody tr th {\n",
       "        vertical-align: top;\n",
       "    }\n",
       "\n",
       "    .dataframe thead th {\n",
       "        text-align: right;\n",
       "    }\n",
       "</style>\n",
       "<table border=\"1\" class=\"dataframe\">\n",
       "  <thead>\n",
       "    <tr style=\"text-align: right;\">\n",
       "      <th></th>\n",
       "      <th>artist</th>\n",
       "      <th>album</th>\n",
       "      <th>track_name</th>\n",
       "      <th>track_id</th>\n",
       "      <th>energy</th>\n",
       "      <th>danceability</th>\n",
       "      <th>key</th>\n",
       "      <th>loudness</th>\n",
       "      <th>acousticness</th>\n",
       "      <th>speechiness</th>\n",
       "      <th>instrumentalness</th>\n",
       "      <th>liveness</th>\n",
       "      <th>valence</th>\n",
       "      <th>tempo</th>\n",
       "      <th>duration_ms</th>\n",
       "      <th>genre</th>\n",
       "    </tr>\n",
       "  </thead>\n",
       "  <tbody>\n",
       "    <tr>\n",
       "      <th>1</th>\n",
       "      <td>The Weeknd</td>\n",
       "      <td>After Hours</td>\n",
       "      <td>Blinding Lights</td>\n",
       "      <td>0VjIjW4GlUZAMYd2vXMi3b</td>\n",
       "      <td>0.730</td>\n",
       "      <td>0.514</td>\n",
       "      <td>1</td>\n",
       "      <td>-5.934</td>\n",
       "      <td>0.00146</td>\n",
       "      <td>0.0598</td>\n",
       "      <td>0.000095</td>\n",
       "      <td>0.0897</td>\n",
       "      <td>0.334</td>\n",
       "      <td>171.005</td>\n",
       "      <td>200040</td>\n",
       "      <td>R&amp;B/Soul</td>\n",
       "    </tr>\n",
       "    <tr>\n",
       "      <th>18</th>\n",
       "      <td>Doja Cat</td>\n",
       "      <td>Hot Pink</td>\n",
       "      <td>Say So</td>\n",
       "      <td>3Dv1eDb0MEgF93GpLXlucZ</td>\n",
       "      <td>0.673</td>\n",
       "      <td>0.787</td>\n",
       "      <td>11</td>\n",
       "      <td>-4.577</td>\n",
       "      <td>0.25600</td>\n",
       "      <td>0.1580</td>\n",
       "      <td>0.000004</td>\n",
       "      <td>0.0904</td>\n",
       "      <td>0.786</td>\n",
       "      <td>110.962</td>\n",
       "      <td>237893</td>\n",
       "      <td>R&amp;B/Soul</td>\n",
       "    </tr>\n",
       "  </tbody>\n",
       "</table>\n",
       "</div>"
      ],
      "text/plain": [
       "        artist        album       track_name                track_id energy  \\\n",
       "1   The Weeknd  After Hours  Blinding Lights  0VjIjW4GlUZAMYd2vXMi3b  0.730   \n",
       "18    Doja Cat     Hot Pink           Say So  3Dv1eDb0MEgF93GpLXlucZ  0.673   \n",
       "\n",
       "   danceability  key loudness acousticness speechiness instrumentalness  \\\n",
       "1         0.514    1   -5.934      0.00146      0.0598         0.000095   \n",
       "18        0.787   11   -4.577      0.25600      0.1580         0.000004   \n",
       "\n",
       "   liveness valence    tempo duration_ms     genre  \n",
       "1    0.0897   0.334  171.005      200040  R&B/Soul  \n",
       "18   0.0904   0.786  110.962      237893  R&B/Soul  "
      ]
     },
     "execution_count": 68,
     "metadata": {},
     "output_type": "execute_result"
    }
   ],
   "source": [
    "mask = data.genre == 'R&B/Soul'\n",
    "values = data.loc[mask, :]\n",
    "values"
   ]
  },
  {
   "cell_type": "markdown",
   "id": "b19ff52d-9377-4c0e-bc6d-f260ebbc97fc",
   "metadata": {},
   "source": [
    "It is interesting that although these two artists are the only examples of the R&B/Soul genre their songs are tehcnically very different by the features that are defines by this dataset"
   ]
  },
  {
   "cell_type": "code",
   "execution_count": 12,
   "id": "18de07a0-533f-4ffc-aafb-8ac63df8e82c",
   "metadata": {},
   "outputs": [
    {
     "name": "stdout",
     "output_type": "stream",
     "text": [
      "40 different artists have their song in the top 50\n"
     ]
    }
   ],
   "source": [
    "#How many artists in total have their songs in the top 50?\n",
    "unique_artists = data['artist'].unique()\n",
    "print(f'{len(unique_artists)} different artists have their song in the top 50')"
   ]
  },
  {
   "cell_type": "code",
   "execution_count": 13,
   "id": "d0d23560-5599-4c7f-bd0b-e6bc924aa5ae",
   "metadata": {},
   "outputs": [
    {
     "name": "stdout",
     "output_type": "stream",
     "text": [
      "Future Nostalgia        3\n",
      "Hollywood's Bleeding    2\n",
      "Fine Line               2\n",
      "Changes                 2\n",
      "Name: album, dtype: int64\n"
     ]
    }
   ],
   "source": [
    "#Are there any albums that have more than 1 popular track? If yes, which and how many?\n",
    "album_number = data['album'].value_counts()\n",
    "print(album_number[album_number > 1])"
   ]
  },
  {
   "cell_type": "code",
   "execution_count": 14,
   "id": "fad583ef-d157-4ed3-9dcc-e2ae292a5c60",
   "metadata": {},
   "outputs": [
    {
     "name": "stdout",
     "output_type": "stream",
     "text": [
      "45 different albums in total have their song in the top 50\n"
     ]
    }
   ],
   "source": [
    "#How many albums in total have their songs in the top 50?\n",
    "unique_album= data['album'].unique()\n",
    "print(f'{len(unique_album)} different albums in total have their song in the top 50')"
   ]
  },
  {
   "cell_type": "markdown",
   "id": "09686235-a1fc-4984-8fe8-835a9ef78198",
   "metadata": {},
   "source": [
    "There are more unique albums than unique artists which proves that artists can have different approaches in different albums and still can make it to the top 50."
   ]
  },
  {
   "cell_type": "code",
   "execution_count": 76,
   "id": "6c3dab1c-e447-4a76-b414-8040fdffcb37",
   "metadata": {},
   "outputs": [
    {
     "name": "stdout",
     "output_type": "stream",
     "text": [
      "Track number-----------------------------------Name\n",
      "2                                      Dance Monkey\n",
      "3                                           The Box\n",
      "4                             Roses - Imanbek Remix\n",
      "5                                   Don't Start Now\n",
      "6                      ROCKSTAR (feat. Roddy Ricch)\n",
      "8                  death bed (coffee for your head)\n",
      "9                                           Falling\n",
      "11                                             Tusa\n",
      "14                                  Blueberry Faygo\n",
      "15                         Intentions (feat. Quavo)\n",
      "16                                     Toosie Slide\n",
      "18                                           Say So\n",
      "19                                         Memories\n",
      "20                       Life Is Good (feat. Drake)\n",
      "21                 Savage Love (Laxed - Siren Beat)\n",
      "23                                      Breaking Me\n",
      "25                              everything i wanted\n",
      "26                                         Señorita\n",
      "27                                          bad guy\n",
      "28                  WAP (feat. Megan Thee Stallion)\n",
      "29                                      Sunday Best\n",
      "30                      Godzilla (feat. Juice WRLD)\n",
      "32                                   Break My Heart\n",
      "33                                         Dynamite\n",
      "34                 Supalonely (feat. Gus Dapperton)\n",
      "38    Sunflower - Spider-Man: Into the Spider-Verse\n",
      "39                                            Hawái\n",
      "40                                          Ride It\n",
      "41                                       goosebumps\n",
      "42                        RITMO (Bad Boys For Life)\n",
      "43                                       THE SCOTTS\n",
      "50                                       SICKO MODE\n",
      "Name: track_name, dtype: object\n"
     ]
    }
   ],
   "source": [
    "#Which tracks have a danceability score above 0.7?\n",
    "\n",
    "data['danceability']= data['danceability'].astype('float')\n",
    "mask = data.danceability > 0.7\n",
    "values = data.loc[mask, 'track_name']\n",
    "print('Track number-----------------------------------Name')\n",
    "print(values)"
   ]
  },
  {
   "cell_type": "code",
   "execution_count": 78,
   "id": "2a04aa4a-251f-4da2-997f-9d3be5603c0f",
   "metadata": {},
   "outputs": [
    {
     "name": "stdout",
     "output_type": "stream",
     "text": [
      "Track number--------Name\n",
      "45    lovely (with Khalid)\n",
      "Name: track_name, dtype: object\n"
     ]
    }
   ],
   "source": [
    "#Which tracks have a danceability score below 0.4?\n",
    "mask = data.danceability < 0.4\n",
    "values = data.loc[mask, 'track_name']\n",
    "print('Track number--------Name')\n",
    "print(values)"
   ]
  },
  {
   "cell_type": "code",
   "execution_count": 83,
   "id": "fdcf0427-901b-42d2-ad1d-5b5ad2eb03ae",
   "metadata": {},
   "outputs": [
    {
     "name": "stdout",
     "output_type": "stream",
     "text": [
      "Track number-----------------------------------Name\n",
      "5                                   Don't Start Now\n",
      "7                                  Watermelon Sugar\n",
      "11                                             Tusa\n",
      "13                                          Circles\n",
      "17                                    Before You Go\n",
      "18                                           Say So\n",
      "22                                        Adore You\n",
      "24                           Mood (feat. iann dior)\n",
      "32                                   Break My Heart\n",
      "33                                         Dynamite\n",
      "34                 Supalonely (feat. Gus Dapperton)\n",
      "36                  Rain On Me (with Ariana Grande)\n",
      "38    Sunflower - Spider-Man: Into the Spider-Verse\n",
      "39                                            Hawái\n",
      "40                                          Ride It\n",
      "41                                       goosebumps\n",
      "44                                          Safaera\n",
      "49                                         Physical\n",
      "50                                       SICKO MODE\n",
      "Name: track_name, dtype: object\n"
     ]
    }
   ],
   "source": [
    "#Which tracks have their loudness above -5?\n",
    "data['loudness']= data['loudness'].astype('float')\n",
    "mask = data.loudness > -5\n",
    "values = data.loc[mask, 'track_name']\n",
    "print('Track number-----------------------------------Name')\n",
    "print(values)"
   ]
  },
  {
   "cell_type": "code",
   "execution_count": 84,
   "id": "e2a46bfa-3938-4ac1-9ac3-20cd6f941b8e",
   "metadata": {},
   "outputs": [
    {
     "name": "stdout",
     "output_type": "stream",
     "text": [
      "Track number-----------------------------------Name\n",
      "8                   death bed (coffee for your head)\n",
      "9                                            Falling\n",
      "16                                      Toosie Slide\n",
      "21                  Savage Love (Laxed - Siren Beat)\n",
      "25                               everything i wanted\n",
      "27                                           bad guy\n",
      "37                               HIGHEST IN THE ROOM\n",
      "45                              lovely (with Khalid)\n",
      "48    If the World Was Ending - feat. Julia Michaels\n",
      "Name: track_name, dtype: object\n"
     ]
    }
   ],
   "source": [
    "#Which tracks have their loudness below -8?\n",
    "mask = data.loudness < -8\n",
    "values = data.loc[mask, 'track_name']\n",
    "print('Track number-----------------------------------Name')\n",
    "print(values)"
   ]
  },
  {
   "cell_type": "markdown",
   "id": "50e54587-789b-4842-9685-3cea2b804ffa",
   "metadata": {},
   "source": [
    "For the last 4 questions I initially used for loops but then realized it could be done easier and more efficiently by masking"
   ]
  },
  {
   "cell_type": "code",
   "execution_count": 99,
   "id": "163b937f-6986-4cb3-b700-4138a7bf19e9",
   "metadata": {},
   "outputs": [
    {
     "name": "stdout",
     "output_type": "stream",
     "text": [
      "the longest track is SICKO MODE\n"
     ]
    }
   ],
   "source": [
    "#Which track is the longest?\n",
    "data['duration_ms']= data['duration_ms'].astype('int')\n",
    "max_index = data.duration_ms.idxmax()\n",
    "corresponding_value = data.loc[max_index, 'track_name']\n",
    "print(f'the longest track is {corresponding_value}')"
   ]
  },
  {
   "cell_type": "code",
   "execution_count": 100,
   "id": "020f6c42-e277-41a2-8cf4-67cd6a89d1d2",
   "metadata": {},
   "outputs": [
    {
     "name": "stdout",
     "output_type": "stream",
     "text": [
      "the shortest track is Mood (feat. iann dior)\n"
     ]
    }
   ],
   "source": [
    "#Which track is the shortest?\n",
    "min_index = data.duration_ms.idxmin()\n",
    "corresponding_value = data.loc[min_index, 'track_name']\n",
    "print(f'the shortest track is {corresponding_value}')"
   ]
  },
  {
   "cell_type": "code",
   "execution_count": 21,
   "id": "2cf4d2ba-e5c2-42a0-b4df-f5db8702f988",
   "metadata": {},
   "outputs": [
    {
     "name": "stdout",
     "output_type": "stream",
     "text": [
      "Pop    14\n",
      "Name: genre, dtype: int64\n"
     ]
    }
   ],
   "source": [
    "#Which genre is the most popular?\n",
    "genre_number = data['genre'].value_counts()\n",
    "print(genre_number[genre_number > 1].head(1))"
   ]
  },
  {
   "cell_type": "markdown",
   "id": "e81d9e1e-2462-444d-a59d-648657acd431",
   "metadata": {},
   "source": [
    "I also could have answered this question with the idxmax function that I have used above for the longest track question"
   ]
  },
  {
   "cell_type": "code",
   "execution_count": 22,
   "id": "3f3f6aa2-6a61-4b14-b2b6-be8898204206",
   "metadata": {},
   "outputs": [
    {
     "name": "stdout",
     "output_type": "stream",
     "text": [
      "Nu-disco                              1\n",
      "R&B/Hip-Hop alternative               1\n",
      "Pop/Soft Rock                         1\n",
      "Pop rap                               1\n",
      "Hip-Hop/Trap                          1\n",
      "Dance-pop/Disco                       1\n",
      "Disco-pop                             1\n",
      "Dreampop/Hip-Hop/R&B                  1\n",
      "Alternative/reggaeton/experimental    1\n",
      "Chamber pop                           1\n",
      "Name: genre, dtype: int64\n"
     ]
    }
   ],
   "source": [
    "#Which genres have just one song on the top 50?\n",
    "genre_number = data['genre'].value_counts()\n",
    "print(genre_number[genre_number == 1])"
   ]
  },
  {
   "cell_type": "code",
   "execution_count": 23,
   "id": "b3325736-1f64-482c-8e10-fe84d1a8c52f",
   "metadata": {},
   "outputs": [
    {
     "name": "stdout",
     "output_type": "stream",
     "text": [
      "16 genres in total are represented in the top 50\n"
     ]
    }
   ],
   "source": [
    "#How many genres in total are represented in the top 50?\n",
    "print(f'{len(data.genre.unique())} genres in total are represented in the top 50')"
   ]
  },
  {
   "cell_type": "markdown",
   "id": "906b705e-f1d0-4afb-937e-2f611ed9c12c",
   "metadata": {},
   "source": [
    "Which highlights the fact that how dominating Pop genre and its sub genres are in the music industry"
   ]
  },
  {
   "cell_type": "code",
   "execution_count": 102,
   "id": "24642ede-4d87-403e-84ee-faf3e7f7ebe4",
   "metadata": {},
   "outputs": [],
   "source": [
    "float_columns = ['energy', 'acousticness','speechiness','instrumentalness', 'liveness', 'valence', 'tempo']\n",
    "for i in float_columns:\n",
    "    data[i] = data[i].astype('float')"
   ]
  },
  {
   "cell_type": "code",
   "execution_count": 103,
   "id": "f72a78bc-442f-4a7d-bdf7-18b1fc831b05",
   "metadata": {},
   "outputs": [
    {
     "name": "stdout",
     "output_type": "stream",
     "text": [
      "loudness and energy are strongly positively correlated\n"
     ]
    }
   ],
   "source": [
    "#Which features are strongly positively correlated?\n",
    "correlation_matrix = data.corr(method='pearson',min_periods=50, numeric_only=True)\n",
    "for i in range(len(correlation_matrix.columns)):\n",
    "    for j in range(i + 1):\n",
    "        if correlation_matrix.iloc[i, j] > 0.5:\n",
    "            column1 = correlation_matrix.columns[i]\n",
    "            column2 = correlation_matrix.columns[j]\n",
    "            if correlation_matrix.columns[i] != correlation_matrix.columns[j]:\n",
    "                print(f\"{column1} and {column2} are strongly positively correlated\")"
   ]
  },
  {
   "cell_type": "code",
   "execution_count": 26,
   "id": "1eea9d94-27df-4451-9f74-3b69a6f2d428",
   "metadata": {},
   "outputs": [
    {
     "name": "stdout",
     "output_type": "stream",
     "text": [
      "acousticness and energy are strongly negatively correlated\n",
      "instrumentalness and loudness are strongly negatively correlated\n"
     ]
    }
   ],
   "source": [
    "#Which features are strongly negatively correlated?\n",
    "correlation_matrix = data.corr(method='pearson',min_periods=50, numeric_only=True)\n",
    "for i in range(len(correlation_matrix.columns)):\n",
    "    for j in range(i + 1):\n",
    "        if correlation_matrix.iloc[i, j] < -0.5:\n",
    "            column1 = correlation_matrix.columns[i]\n",
    "            column2 = correlation_matrix.columns[j]\n",
    "            if correlation_matrix.columns[i] != correlation_matrix.columns[j]:\n",
    "                print(f\"{column1} and {column2} are strongly negatively correlated\")"
   ]
  },
  {
   "cell_type": "markdown",
   "id": "83630aff-0773-4c3f-b028-d81ffeb39dec",
   "metadata": {},
   "source": [
    "According to various resources i found strong correlation equals to a value that is above 0.8 by minimum standards but since this specific database didnt had any values upto that point I went as down as possible without interfering the current result to show the confidence level I have got."
   ]
  },
  {
   "cell_type": "code",
   "execution_count": 105,
   "id": "f55097f2-3155-484f-af81-4efdfb8b6171",
   "metadata": {},
   "outputs": [
    {
     "name": "stdout",
     "output_type": "stream",
     "text": [
      "key and energy are not correlated\n",
      "loudness and key are not correlated\n",
      "speechiness and energy are not correlated\n",
      "speechiness and key are not correlated\n",
      "speechiness and loudness are not correlated\n",
      "instrumentalness and danceability are not correlated\n",
      "instrumentalness and key are not correlated\n",
      "instrumentalness and speechiness are not correlated\n",
      "liveness and energy are not correlated\n",
      "liveness and danceability are not correlated\n",
      "liveness and loudness are not correlated\n",
      "liveness and instrumentalness are not correlated\n",
      "valence and speechiness are not correlated\n",
      "valence and liveness are not correlated\n",
      "tempo and energy are not correlated\n",
      "tempo and key are not correlated\n",
      "tempo and instrumentalness are not correlated\n",
      "tempo and liveness are not correlated\n",
      "tempo and valence are not correlated\n",
      "duration_ms and energy are not correlated\n",
      "duration_ms and danceability are not correlated\n",
      "duration_ms and key are not correlated\n",
      "duration_ms and loudness are not correlated\n",
      "duration_ms and acousticness are not correlated\n",
      "duration_ms and liveness are not correlated\n",
      "duration_ms and valence are not correlated\n"
     ]
    }
   ],
   "source": [
    "#Which features are not correlated?\n",
    "correlation_matrix = data.corr(method='pearson',min_periods=50, numeric_only=True)\n",
    "for i in range(len(correlation_matrix.columns)):\n",
    "    for j in range(i + 1):\n",
    "        if correlation_matrix.iloc[i, j] > -0.1 and correlation_matrix.iloc[i, j] < 0.1:\n",
    "            column1 = correlation_matrix.columns[i]\n",
    "            column2 = correlation_matrix.columns[j]\n",
    "            if correlation_matrix.columns[i] != correlation_matrix.columns[j]:\n",
    "                print(f\"{column1} and {column2} are not correlated\")"
   ]
  },
  {
   "cell_type": "code",
   "execution_count": 28,
   "id": "0c7e4526-54f3-49f3-b5f2-d383db69857b",
   "metadata": {},
   "outputs": [
    {
     "name": "stdout",
     "output_type": "stream",
     "text": [
      "the average danceability for pop genre is 0.6775714285714286\n",
      "the average danceability for Hip-Hop/Rap genre is 0.7655384615384614\n",
      "the average danceability for Dance/Electronic is 0.7550000000000001\n",
      "the average danceability for Alternative/Indie is 0.6617500000000001\n"
     ]
    }
   ],
   "source": [
    "#How does the danceability score compare between Pop, Hip-Hop/Rap, Dance/Electronic, and Alternative/Indie genres?\n",
    "pop_indices = []\n",
    "pop_danceability = []\n",
    "for index, value in data.genre.items():\n",
    "    if value == 'Pop':\n",
    "        pop_indices.append(index)\n",
    "        \n",
    "for index, value in data.danceability.items():\n",
    "    for j in pop_indices:\n",
    "        if j == index:\n",
    "            pop_danceability.append(value)\n",
    "            \n",
    "hiphoprap_indices = []\n",
    "hiphoprap_danceability = []\n",
    "for index, value in data.genre.items():\n",
    "    if value == 'Hip-Hop/Rap':\n",
    "        hiphoprap_indices.append(index)\n",
    "        \n",
    "for index, value in data.danceability.items():\n",
    "    for j in hiphoprap_indices:\n",
    "        if j == index:\n",
    "            hiphoprap_danceability.append(value)\n",
    "\n",
    "danceElectronic_indices = []\n",
    "danceElectronic_danceability = []\n",
    "for index, value in data.genre.items():\n",
    "    if value == 'Dance/Electronic':\n",
    "        danceElectronic_indices.append(index)\n",
    "        \n",
    "for index, value in data.danceability.items():\n",
    "    for j in danceElectronic_indices:\n",
    "        if j == index:\n",
    "            danceElectronic_danceability.append(value)\n",
    "\n",
    "alternativeindie_indices = []\n",
    "alternativeindie_danceability = []\n",
    "for index, value in data.genre.items():\n",
    "    if value == 'Alternative/Indie':\n",
    "        alternativeindie_indices.append(index)\n",
    "        \n",
    "for index, value in data.danceability.items():\n",
    "    for j in alternativeindie_indices:\n",
    "        if j == index:\n",
    "            alternativeindie_danceability.append(value)\n",
    "            \n",
    "print(f'the average danceability for pop genre is {np.mean(pop_danceability)}')\n",
    "print(f'the average danceability for Hip-Hop/Rap genre is {np.mean(hiphoprap_danceability)}')\n",
    "print(f'the average danceability for Dance/Electronic is {np.mean(danceElectronic_danceability)}')\n",
    "print(f'the average danceability for Alternative/Indie is {np.mean(alternativeindie_danceability)}')"
   ]
  },
  {
   "cell_type": "code",
   "execution_count": 29,
   "id": "86384fa4-c3bb-4172-b37f-a3e8429c5bd2",
   "metadata": {},
   "outputs": [
    {
     "name": "stdout",
     "output_type": "stream",
     "text": [
      "This is the average values\n",
      "genre\n",
      "Alternative/Indie    0.661750\n",
      "Dance/Electronic     0.755000\n",
      "Hip-Hop/Rap          0.765538\n",
      "Pop                  0.677571\n",
      "Name: danceability, dtype: float64\n",
      "\n",
      "This is median values\n",
      "genre\n",
      "Alternative/Indie    0.663\n",
      "Dance/Electronic     0.785\n",
      "Hip-Hop/Rap          0.774\n",
      "Pop                  0.690\n",
      "Name: danceability, dtype: float64\n",
      "\n",
      "This is the minimum values\n",
      "genre\n",
      "Alternative/Indie    0.459\n",
      "Dance/Electronic     0.647\n",
      "Hip-Hop/Rap          0.598\n",
      "Pop                  0.464\n",
      "Name: danceability, dtype: float64\n",
      "\n",
      "This is the maximum values\n",
      "genre\n",
      "Alternative/Indie    0.862\n",
      "Dance/Electronic     0.880\n",
      "Hip-Hop/Rap          0.896\n",
      "Pop                  0.806\n",
      "Name: danceability, dtype: float64\n",
      "\n",
      "This is the standard deviation\n",
      "genre\n",
      "Alternative/Indie    0.211107\n",
      "Dance/Electronic     0.094744\n",
      "Hip-Hop/Rap          0.085470\n",
      "Pop                  0.109853\n",
      "Name: danceability, dtype: float64\n"
     ]
    }
   ],
   "source": [
    "#by using groupby\n",
    "specific_names = ['Pop','Hip-Hop/Rap','Dance/Electronic', 'Alternative/Indie']\n",
    "grouped = data[data['genre'].isin(specific_names)].groupby('genre')\n",
    "print('This is the average values')\n",
    "print(grouped.danceability.mean())\n",
    "print()\n",
    "print('This is median values')\n",
    "print(grouped.danceability.median())\n",
    "print()\n",
    "print('This is the minimum values')\n",
    "print(grouped.danceability.min())\n",
    "print()\n",
    "print('This is the maximum values')\n",
    "print(grouped.danceability.max())\n",
    "print()\n",
    "print('This is the standard deviation')\n",
    "print(grouped.danceability.std())"
   ]
  },
  {
   "cell_type": "code",
   "execution_count": 30,
   "id": "f20c9e86-df77-4960-8a84-10dac3fea0c0",
   "metadata": {},
   "outputs": [
    {
     "name": "stdout",
     "output_type": "stream",
     "text": [
      "the average loudness for pop genre is -6.460357142857143\n",
      "the average loudness for Hip-Hop/Rap genre is -6.917846153846154\n",
      "the average loudness for Dance/Electronic is -5.338\n",
      "the average loudness for Alternative/Indie is -5.420999999999999\n"
     ]
    }
   ],
   "source": [
    "#How does the loudness score compare between Pop, Hip-Hop/Rap, Dance/Electronic, and Alternative/Indie genres?\n",
    "pop_indices = []\n",
    "pop_loudness = []\n",
    "for index, value in data.genre.items():\n",
    "    if value == 'Pop':\n",
    "        pop_indices.append(index)\n",
    "        \n",
    "for index, value in data.loudness.items():\n",
    "    for j in pop_indices:\n",
    "        if j == index:\n",
    "            pop_loudness.append(value)\n",
    "            \n",
    "hiphoprap_indices = []\n",
    "hiphoprap_loudness = []\n",
    "for index, value in data.genre.items():\n",
    "    if value == 'Hip-Hop/Rap':\n",
    "        hiphoprap_indices.append(index)\n",
    "        \n",
    "for index, value in data.loudness.items():\n",
    "    for j in hiphoprap_indices:\n",
    "        if j == index:\n",
    "            hiphoprap_loudness.append(value)\n",
    "\n",
    "danceElectronic_indices = []\n",
    "danceElectronic_loudness = []\n",
    "for index, value in data.genre.items():\n",
    "    if value == 'Dance/Electronic':\n",
    "        danceElectronic_indices.append(index)\n",
    "        \n",
    "for index, value in data.loudness.items():\n",
    "    for j in danceElectronic_indices:\n",
    "        if j == index:\n",
    "            danceElectronic_loudness.append(value)\n",
    "\n",
    "alternativeindie_indices = []\n",
    "alternativeindie_loudness = []\n",
    "for index, value in data.genre.items():\n",
    "    if value == 'Alternative/Indie':\n",
    "        alternativeindie_indices.append(index)\n",
    "        \n",
    "for index, value in data.loudness.items():\n",
    "    for j in alternativeindie_indices:\n",
    "        if j == index:\n",
    "            alternativeindie_loudness.append(value)\n",
    "            \n",
    "print(f'the average loudness for pop genre is {np.mean(pop_loudness)}')\n",
    "print(f'the average loudness for Hip-Hop/Rap genre is {np.mean(hiphoprap_loudness)}')\n",
    "print(f'the average loudness for Dance/Electronic is {np.mean(danceElectronic_loudness)}')\n",
    "print(f'the average loudness for Alternative/Indie is {np.mean(alternativeindie_loudness)}')"
   ]
  },
  {
   "cell_type": "code",
   "execution_count": 31,
   "id": "94b527d3-6f4c-40f4-b7f9-8648ebe984b7",
   "metadata": {},
   "outputs": [
    {
     "name": "stdout",
     "output_type": "stream",
     "text": [
      "This is the average values\n",
      "genre\n",
      "Alternative/Indie   -5.421000\n",
      "Dance/Electronic    -5.338000\n",
      "Hip-Hop/Rap         -6.917846\n",
      "Pop                 -6.460357\n",
      "Name: loudness, dtype: float64\n",
      "\n",
      "This is median values\n",
      "genre\n",
      "Alternative/Indie   -5.2685\n",
      "Dance/Electronic    -5.4570\n",
      "Hip-Hop/Rap         -7.6480\n",
      "Pop                 -6.6445\n",
      "Name: loudness, dtype: float64\n",
      "\n",
      "This is the minimum values\n",
      "genre\n",
      "Alternative/Indie    -6.401\n",
      "Dance/Electronic     -7.567\n",
      "Hip-Hop/Rap          -8.820\n",
      "Pop                 -14.454\n",
      "Name: loudness, dtype: float64\n",
      "\n",
      "This is the maximum values\n",
      "genre\n",
      "Alternative/Indie   -4.746\n",
      "Dance/Electronic    -3.756\n",
      "Hip-Hop/Rap         -3.370\n",
      "Pop                 -3.280\n",
      "Name: loudness, dtype: float64\n",
      "\n",
      "This is the standard deviation\n",
      "genre\n",
      "Alternative/Indie    0.774502\n",
      "Dance/Electronic     1.479047\n",
      "Hip-Hop/Rap          1.891808\n",
      "Pop                  3.014281\n",
      "Name: loudness, dtype: float64\n"
     ]
    }
   ],
   "source": [
    "#by using groupby\n",
    "specific_names = ['Pop','Hip-Hop/Rap','Dance/Electronic', 'Alternative/Indie']\n",
    "grouped = data[data['genre'].isin(specific_names)].groupby('genre')\n",
    "print('This is the average values')\n",
    "print(grouped.loudness.mean())\n",
    "print()\n",
    "print('This is median values')\n",
    "print(grouped.loudness.median())\n",
    "print()\n",
    "print('This is the minimum values')\n",
    "print(grouped.loudness.min())\n",
    "print()\n",
    "print('This is the maximum values')\n",
    "print(grouped.loudness.max())\n",
    "print()\n",
    "print('This is the standard deviation')\n",
    "print(grouped.loudness.std())"
   ]
  },
  {
   "cell_type": "code",
   "execution_count": 32,
   "id": "213c057a-fa84-4e2b-b395-184a8f39c0ee",
   "metadata": {},
   "outputs": [
    {
     "name": "stdout",
     "output_type": "stream",
     "text": [
      "the average acousticness for pop genre is 0.3238428571428571\n",
      "the average acousticness for Hip-Hop/Rap genre is 0.18874076923076927\n",
      "the average acousticness for Dance/Electronic is 0.09944\n",
      "the average acousticness for Alternative/Indie is 0.5835\n"
     ]
    }
   ],
   "source": [
    "#How does the acousticness score compare between Pop, Hip-Hop/Rap, Dance/Electronic, and Alternative/Indie genres?\n",
    "pop_indices = []\n",
    "pop_acousticness = []\n",
    "for index, value in data.genre.items():\n",
    "    if value == 'Pop':\n",
    "        pop_indices.append(index)\n",
    "        \n",
    "for index, value in data.acousticness.items():\n",
    "    for j in pop_indices:\n",
    "        if j == index:\n",
    "            pop_acousticness.append(value)\n",
    "            \n",
    "hiphoprap_indices = []\n",
    "hiphoprap_acousticness = []\n",
    "for index, value in data.genre.items():\n",
    "    if value == 'Hip-Hop/Rap':\n",
    "        hiphoprap_indices.append(index)\n",
    "        \n",
    "for index, value in data.acousticness.items():\n",
    "    for j in hiphoprap_indices:\n",
    "        if j == index:\n",
    "            hiphoprap_acousticness.append(value)\n",
    "\n",
    "danceElectronic_indices = []\n",
    "danceElectronic_acousticness = []\n",
    "for index, value in data.genre.items():\n",
    "    if value == 'Dance/Electronic':\n",
    "        danceElectronic_indices.append(index)\n",
    "        \n",
    "for index, value in data.acousticness.items():\n",
    "    for j in danceElectronic_indices:\n",
    "        if j == index:\n",
    "            danceElectronic_acousticness.append(value)\n",
    "\n",
    "alternativeindie_indices = []\n",
    "alternativeindie_acousticness = []\n",
    "for index, value in data.genre.items():\n",
    "    if value == 'Alternative/Indie':\n",
    "        alternativeindie_indices.append(index)\n",
    "        \n",
    "for index, value in data.acousticness.items():\n",
    "    for j in alternativeindie_indices:\n",
    "        if j == index:\n",
    "            alternativeindie_acousticness.append(value)\n",
    "            \n",
    "print(f'the average acousticness for pop genre is {np.mean(pop_acousticness)}')\n",
    "print(f'the average acousticness for Hip-Hop/Rap genre is {np.mean(hiphoprap_acousticness)}')\n",
    "print(f'the average acousticness for Dance/Electronic is {np.mean(danceElectronic_acousticness)}')\n",
    "print(f'the average acousticness for Alternative/Indie is {np.mean(alternativeindie_acousticness)}')"
   ]
  },
  {
   "cell_type": "code",
   "execution_count": 33,
   "id": "8fc6974c-c043-4544-ae2c-6dfb8ada2f27",
   "metadata": {},
   "outputs": [
    {
     "name": "stdout",
     "output_type": "stream",
     "text": [
      "This is the average values\n",
      "genre\n",
      "Alternative/Indie    0.583500\n",
      "Dance/Electronic     0.099440\n",
      "Hip-Hop/Rap          0.188741\n",
      "Pop                  0.323843\n",
      "Name: acousticness, dtype: float64\n",
      "\n",
      "This is median values\n",
      "genre\n",
      "Alternative/Indie    0.6460\n",
      "Dance/Electronic     0.0686\n",
      "Hip-Hop/Rap          0.1450\n",
      "Pop                  0.2590\n",
      "Name: acousticness, dtype: float64\n",
      "\n",
      "This is the minimum values\n",
      "genre\n",
      "Alternative/Indie    0.29100\n",
      "Dance/Electronic     0.01370\n",
      "Hip-Hop/Rap          0.00513\n",
      "Pop                  0.02100\n",
      "Name: acousticness, dtype: float64\n",
      "\n",
      "This is the maximum values\n",
      "genre\n",
      "Alternative/Indie    0.751\n",
      "Dance/Electronic     0.223\n",
      "Hip-Hop/Rap          0.731\n",
      "Pop                  0.902\n",
      "Name: acousticness, dtype: float64\n",
      "\n",
      "This is the standard deviation\n",
      "genre\n",
      "Alternative/Indie    0.204086\n",
      "Dance/Electronic     0.095828\n",
      "Hip-Hop/Rap          0.186396\n",
      "Pop                  0.318142\n",
      "Name: acousticness, dtype: float64\n"
     ]
    }
   ],
   "source": [
    "#by using groupby\n",
    "specific_names = ['Pop','Hip-Hop/Rap','Dance/Electronic', 'Alternative/Indie']\n",
    "grouped = data[data['genre'].isin(specific_names)].groupby('genre')\n",
    "print('This is the average values')\n",
    "print(grouped.acousticness.mean())\n",
    "print()\n",
    "print('This is median values')\n",
    "print(grouped.acousticness.median())\n",
    "print()\n",
    "print('This is the minimum values')\n",
    "print(grouped.acousticness.min())\n",
    "print()\n",
    "print('This is the maximum values')\n",
    "print(grouped.acousticness.max())\n",
    "print()\n",
    "print('This is the standard deviation')\n",
    "print(grouped.acousticness.std())"
   ]
  },
  {
   "cell_type": "markdown",
   "id": "82fdb408-5c16-43ad-9021-5a593619ae45",
   "metadata": {},
   "source": [
    "<h1 style=\"font-family: 'Times New Roman'; color: #ff0000; text-align: left;\">Conclusion</h1>\n",
    "Some improvements I would have done for this analysis would be to go more in depth with other features such as tempo, instrumentalness, liveness, valence and etc because I feel like there is a lot more to learn and figure out if we compare the other aspects of this dataset. The key main take aways from this analysis was that:\n",
    "\n",
    "1) Pop genre and its sub genres are heavily dominating the industry.\n",
    "2) Humans have an understanding of energetic songs to be louder.\n",
    "3) All the 3 features we have dived through showed us that median and average values were very close and the STD was relatively low so if an artist that is trying to get into the market should take into account those margins based on their genre and statistically they have a better shot at having a successfull song in the end.\n",
    "4) There are less songs that are low in loudness than their counterpart which shows that the trend is to have a music that is high in loudness therefore if a song is high in loudness it is more likely to succeed."
   ]
  }
 ],
 "metadata": {
  "kernelspec": {
   "display_name": "Python 3 (ipykernel)",
   "language": "python",
   "name": "python3"
  },
  "language_info": {
   "codemirror_mode": {
    "name": "ipython",
    "version": 3
   },
   "file_extension": ".py",
   "mimetype": "text/x-python",
   "name": "python",
   "nbconvert_exporter": "python",
   "pygments_lexer": "ipython3",
   "version": "3.10.9"
  }
 },
 "nbformat": 4,
 "nbformat_minor": 5
}
